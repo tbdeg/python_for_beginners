{
 "cells": [
  {
   "cell_type": "markdown",
   "metadata": {
    "slideshow": {
     "slide_type": "slide"
    }
   },
   "source": [
    "# Python for Beginners\n",
    "\n",
    "## An Introduction to Python & Data Analysis\n",
    "\n",
    "### Joe Blankenship - Just some dude"
   ]
  },
  {
   "cell_type": "markdown",
   "metadata": {
    "slideshow": {
     "slide_type": "slide"
    }
   },
   "source": [
    "## 5 Initial Sections\n",
    "\n",
    "* Introduction to Python Programming Language - Part 1\n",
    "* Introduction to Python Programming Language - Part 2\n",
    "* Data Collection\n",
    "* Data Analysis\n",
    "* Data Visualization"
   ]
  },
  {
   "cell_type": "markdown",
   "metadata": {
    "slideshow": {
     "slide_type": "slide"
    }
   },
   "source": [
    "## Learning Objectives\n",
    "\n",
    "* Gain a working understanding of the Python programming language\n",
    "* Gain a working knowledge of how to collect and process data in Python\n",
    "* Gain a good understanding of how to perform data manipulation and analysis in Python\n",
    "* Gain a good understanding of how to visualize your analytic results using Python"
   ]
  },
  {
   "cell_type": "markdown",
   "metadata": {
    "slideshow": {
     "slide_type": "slide"
    }
   },
   "source": [
    "## Introduction - Part 1\n",
    "\n",
    "* Introduction to Python Ecosystem\n",
    "  * About \"Artificial Intelligence\"\n",
    "  * What is Python?\n",
    "  * Why use it?\n",
    "  * How do I use Python?\n",
    "  * Where do I start?\n",
    "* Install Python\n",
    "  * Operating Systems\n",
    "* Setup\n",
    "  * Package Managers\n",
    "  * Virtual Environments\n",
    "  * Developer Environment\n",
    "    * IDEs\n",
    "    * Text Editors\n",
    "  * VCS\n",
    "* Demos\n",
    "* Start a Programming Project"
   ]
  },
  {
   "attachments": {},
   "cell_type": "markdown",
   "metadata": {},
   "source": [
    "## So let’s talk about “Artificial Intelligence”…\n",
    "\n",
    "* Knowing how to code and program\n",
    "  * AI will help with coding\n",
    "  * You’ll still need to know how to program\n",
    "* AI is a tool to help you\n",
    "  * So learn how to use it to effect\n",
    "* Don’t cheat yourself\n",
    "  * Read the Docs\n",
    "  * Read other Docs\n",
    "  * Then leverage AI"
   ]
  },
  {
   "cell_type": "markdown",
   "metadata": {
    "slideshow": {
     "slide_type": "slide"
    }
   },
   "source": [
    "## What is Python?\n",
    "\n",
    "* \"Interpreted high-level programming language\" (Wikipedia)\n",
    "  * JIT\n",
    "  * Multiple interpreters\n",
    "* General-purpose programming\n",
    "* Created by Guido van Rossum (1991)\n",
    "* Named after Monty Python"
   ]
  },
  {
   "cell_type": "markdown",
   "metadata": {
    "slideshow": {
     "slide_type": "slide"
    }
   },
   "source": [
    "## Why Python?\n",
    "\n",
    "* Simple to Use!\n",
    "* Broad Spectrum of Application\n",
    "* Full Stack Solutions\n",
    "* Numerous 3rd Party Libraries\n",
    "* Active, Open Source Community"
   ]
  },
  {
   "attachments": {},
   "cell_type": "markdown",
   "metadata": {},
   "source": [
    "## How Do I Use Python?\n",
    "\n",
    "* Specializations\n",
    "  * AI/Machine Learning\n",
    "  * Web Development\n",
    "  * Data Science & Analytics\n",
    "  * Game Development\n",
    "  * General Software Development\n",
    "  * Robotics/Electronics\n",
    "  * Automation\n",
    "  * Education & Recreation\n",
    "* Use Cases\n",
    "  * Financial/FinTech\n",
    "  * IT\n",
    "  * Retail\n",
    "  * Online/Web\n",
    "  * Business Intelligence\n",
    "  * Government & Defense\n",
    "  * Cybersecurity"
   ]
  },
  {
   "attachments": {},
   "cell_type": "markdown",
   "metadata": {},
   "source": [
    "## Where Do I Start?\n",
    "\n",
    "* Find a project you’re excited to work on!\n",
    "* Listen, Read, and Learn from others\n",
    "  * Public/Univeristy Libraries\n",
    "  * Books, E-books, and online education resources\n",
    "  * [Pycoder's Weekly](http://pycoders.com/)\n",
    "  * [KDNuggets](https://www.kdnuggets.com/news/index.html)\n",
    "  * [Data Science Weekly](https://datascienceweekly.substack.com/)\n",
    "  * [Python Packages](https://packaging.python.org/tutorials/installing-packages/)\n",
    "  * [Real Python](https://realpython.com/)\n",
    "  * [Full Stack Python](https://www.fullstackpython.com/)\n",
    "  * [PyCon talks](http://pyvideo.org/)"
   ]
  },
  {
   "cell_type": "markdown",
   "metadata": {
    "slideshow": {
     "slide_type": "slide"
    }
   },
   "source": [
    "## Installation of Python\n",
    "\n",
    "* Go here for your respective OS download\n",
    "  * https://www.python.org/\n",
    "* Windows\n",
    "  * load executable installer or ZIP\n",
    "  * Add to Path!\n",
    "  * WSL2 is also an option*\n",
    "* Mac OS\n",
    "  * Python for Mac OS\n",
    "  * For latest versions, have to download\n",
    "* Linux\n",
    "  * Just the best ;)\n",
    "  * Already have Python and Legacy Python installed"
   ]
  },
  {
   "cell_type": "markdown",
   "metadata": {
    "slideshow": {
     "slide_type": "slide"
    }
   },
   "source": [
    "## Setup - Package Management\n",
    "\n",
    "* PyPI\n",
    "  * [Python Package Index](https://pypi.python.org/pypi)\n",
    "  * pip3 package utility\n",
    "    * May need to install depending on OS\n",
    "  * Anyone can publish their packages here\n",
    "* Many other package managers\n",
    "  * Do your research\n",
    "    * Aptitude\n",
    "    * Homebrew\n",
    "    * Anaconda\n",
    "      * A popular data science environment\n",
    "      * Package management/virtual environments are unique to their system\n",
    "* You can go one of these routes if you choose\n",
    "  * Keep in mind some are supported by companies with partially proprietary setups"
   ]
  },
  {
   "cell_type": "markdown",
   "metadata": {
    "slideshow": {
     "slide_type": "slide"
    }
   },
   "source": [
    "## Setup - Virtual Environments\n",
    "\n",
    "* Why?\n",
    "  * Maintain project environment\n",
    "  * Prevent clutter\n",
    "    * System packages – Python Standard library\n",
    "    * Site packages - 3rd party libraries\n",
    "  * Prevent package version issues\n",
    "  * Makes sharing your research/projects easier"
   ]
  },
  {
   "cell_type": "markdown",
   "metadata": {
    "slideshow": {
     "slide_type": "subslide"
    }
   },
   "source": [
    "## Setup - Virtual Environments\n",
    "\n",
    "* Python has a [default virtual environment tool](https://docs.python.org/3/library/venv.html)\n",
    "* To create your project directory with virtual environment\n",
    "  * `python3 -m venv /path/to/new/virtual/environment`\n",
    "  * `cd /path/to/new/virtual/environment`\n",
    "  * `source bin/activate`\n",
    "* To create a requirements.txt\n",
    "  * activate the virtual environment\n",
    "  * `pip3 freeze > requirements.txt`"
   ]
  },
  {
   "attachments": {},
   "cell_type": "markdown",
   "metadata": {
    "slideshow": {
     "slide_type": "slide"
    }
   },
   "source": [
    "## Setup - Developer Environment\n",
    "\n",
    "* Python comes with a REPL and Idle\n",
    "* Integrated Development Environments (IDEs)\n",
    "  * PyCharm\n",
    "  * Spyder\n",
    "* Text Editors\n",
    "  * VS Code\n",
    "  * Sublime Text\n",
    "  * Notepad++\n",
    "* Notebooks\n",
    "  * Marimo\n",
    "  * Jupyter Lab\n",
    "* Online\n",
    "  * Google Colab\n",
    "  * Sagemaker\n",
    "  * Kaggle\n",
    "* AI\n",
    "  * Cursor\n",
    "  * Windsurf\n",
    "* \"The Immortal War Machines\"\n",
    "  * Vim (& Neovim)\n",
    "  * Emacs"
   ]
  },
  {
   "attachments": {},
   "cell_type": "markdown",
   "metadata": {},
   "source": [
    "## Setup - Developer Environment\n",
    "\n",
    "* Recommendation for Learners\n",
    "  * Local OS install of Python\n",
    "  * Virtual Studio Code w/ Python Extensions\n",
    "  * No Copilot… until it’s time to use Copilot"
   ]
  },
  {
   "cell_type": "markdown",
   "metadata": {
    "slideshow": {
     "slide_type": "slide"
    }
   },
   "source": [
    "## Version Control Software\n",
    "\n",
    "** Always back-up your projects with a VCS **\n",
    "\n",
    "#### Git is an industry standard version control system\n",
    "\n",
    "* Github\n",
    "  * Go [here](https://guides.github.com/) to get started\n",
    "* GitLab\n",
    "  * Go [here](https://docs.gitlab.com/ee/README.html#getting-started-with-gitlab) to get started\n",
    "* BitBucket\n",
    "  * Go [here](https://www.atlassian.com/git/tutorials) to get started\n",
    "\n",
    "#### There are several others you can use"
   ]
  },
  {
   "cell_type": "markdown",
   "metadata": {
    "slideshow": {
     "slide_type": "slide"
    }
   },
   "source": [
    "## Demos!"
   ]
  },
  {
   "cell_type": "code",
   "execution_count": null,
   "metadata": {
    "slideshow": {
     "slide_type": "subslide"
    }
   },
   "outputs": [],
   "source": [
    "# Python Easter Egg!\n",
    "import antigravity"
   ]
  },
  {
   "cell_type": "code",
   "execution_count": null,
   "metadata": {
    "slideshow": {
     "slide_type": "subslide"
    }
   },
   "outputs": [],
   "source": [
    "# Another Python Easter Egg!\n",
    "import this"
   ]
  },
  {
   "cell_type": "code",
   "execution_count": null,
   "metadata": {
    "slideshow": {
     "slide_type": "subslide"
    }
   },
   "outputs": [],
   "source": [
    "# A simple app to open multiple search tabs on a browser for same query\n",
    "\n",
    "# from core Python3, import open_new_tab module from webbrowser library\n",
    "from webbrowser import open_new_tab\n",
    "\n",
    "# Define list of search engine URLs\n",
    "websites = [\n",
    "    \"https://www.google.com/search?q=\",\n",
    "    \"https://duckduckgo.com/?q=\",\n",
    "    \"https://search.yahoo.com/search?p=\",\n",
    "    \"https://www.bing.com/search?q=\",\n",
    "    \"https://www.ask.com/web?q=\",\n",
    "    \"https://www.startpage.com/do/dsearch?query=\"\n",
    "]\n",
    "\n",
    "# Define the search query\n",
    "query =  # what do we need here?\n",
    "\n",
    "# For each URL in the list\n",
    "# open a new tab and populate the URL with the search engine and query \n",
    "for i in websites:\n",
    "    open_new_tab()  # what should we give our function here?\n"
   ]
  },
  {
   "cell_type": "code",
   "execution_count": null,
   "metadata": {
    "slideshow": {
     "slide_type": "subslide"
    }
   },
   "outputs": [],
   "source": [
    "# An app with a function which opens multiple search tabs on a browser for same query\n",
    "\n",
    "# from core Python3, import open_new_tab module from webbrowser library\n",
    "from webbrowser import open_new_tab\n",
    "\n",
    "# Define a reusable function named 'search' that takes arguments for a search phrase and engines\n",
    "def search(search_phrase, search_engines):\n",
    "    # For each URL in the list\n",
    "    for i in search_engines:\n",
    "        # open a new tab and populate the URL with the search engine and query \n",
    "        open_new_tab(i)  # does this do what we want?\n"
   ]
  },
  {
   "cell_type": "code",
   "execution_count": null,
   "metadata": {
    "slideshow": {
     "slide_type": "subslide"
    }
   },
   "outputs": [],
   "source": [
    "# use our search function for our query\n",
    "# place your code below\n",
    "\n"
   ]
  },
  {
   "attachments": {},
   "cell_type": "markdown",
   "metadata": {
    "jp-MarkdownHeadingCollapsed": true
   },
   "source": [
    "## Start a Project\n",
    "\n",
    "* Whiteboarding\n",
    "* Wireframing\n",
    "* Pseudo-coding\n",
    "* Programming/Coding"
   ]
  },
  {
   "attachments": {},
   "cell_type": "markdown",
   "metadata": {
    "jp-MarkdownHeadingCollapsed": true
   },
   "source": [
    "## Start a Project\n",
    "\n",
    "* Whiteboarding\n",
    "  * A place and time to mind map your project\n",
    "  * Explore your choices and their implications\n",
    "  * Help you break down your project into smaller tasks\n",
    "  * Prepares you for whiteboard interviews"
   ]
  },
  {
   "attachments": {},
   "cell_type": "markdown",
   "metadata": {},
   "source": [
    "## Start a Project\n",
    "\n",
    "* Wireframing\n",
    "  * Help you communicate your project to others\n",
    "  * Understand functionality & dependencies\n",
    "  * Helps other understand & provide feedback\n",
    "  * Helps you set priorities & order of tasks"
   ]
  },
  {
   "attachments": {},
   "cell_type": "markdown",
   "metadata": {
    "jp-MarkdownHeadingCollapsed": true
   },
   "source": [
    "## Start a Project\n",
    "\n",
    "* Pseudocoding\n",
    "  * Helps you break down project tasks into code\n",
    "  * Helps with naming & readability of your code\n",
    "  * Helps avoid too many comments & guides docstring\n",
    "  * Language agnostic expressions\n",
    "  * Great way to initially express & explore logic"
   ]
  },
  {
   "attachments": {},
   "cell_type": "markdown",
   "metadata": {},
   "source": [
    "## Start a Project\n",
    "\n",
    "* Programming/Coding\n",
    "  * Go back to whiteboard, wireframes, and pseudocode as needed\n",
    "  * Learn & use your editors tools to code efficiently\n",
    "  * Talk to & learn from others"
   ]
  }
 ],
 "metadata": {
  "kernelspec": {
   "display_name": "Python 3 (ipykernel)",
   "language": "python",
   "name": "python3"
  },
  "language_info": {
   "codemirror_mode": {
    "name": "ipython",
    "version": 3
   },
   "file_extension": ".py",
   "mimetype": "text/x-python",
   "name": "python",
   "nbconvert_exporter": "python",
   "pygments_lexer": "ipython3",
   "version": "3.12.3"
  }
 },
 "nbformat": 4,
 "nbformat_minor": 4
}
